{
 "cells": [
  {
   "cell_type": "markdown",
   "metadata": {
    "id": "k8c3nvV0RrTX"
   },
   "source": [
    "# ENG3047 Structural Mechanics 3\n",
    "# Python Programming Lab 1 (Tuesday 17 January 2 pm - 4 pm)"
   ]
  },
  {
   "cell_type": "markdown",
   "metadata": {
    "id": "ZHJnXx2HRrTb"
   },
   "source": [
    "# Overview"
   ]
  },
  {
   "cell_type": "markdown",
   "metadata": {
    "id": "4IXeFHavRrTc"
   },
   "source": [
    "* This is a gentle re-introduction to Python programming and some linear algebra basics that are required for later labs.\n",
    "* Please work through all exercises, and if you experience any difficulties, feel free to ask for help from any of the tutors. You can unmute your microphone, raise your hand, or type a question in Zoom chat -- whichever way is more comfortable for you. You can even leave an anonymous question on the Padlet: https://padlet.com/andreishvarts/zi40dpp23t29kba5\n",
    "* Solutions will be uploaded on Moodle 15 minutes before the end of the class."
   ]
  },
  {
   "cell_type": "markdown",
   "metadata": {},
   "source": [
    "# Python refresher"
   ]
  },
  {
   "cell_type": "markdown",
   "metadata": {
    "id": "P1HmizySRrTc"
   },
   "source": [
    "## Printing (i.e. output)"
   ]
  },
  {
   "cell_type": "code",
   "execution_count": null,
   "metadata": {
    "colab": {
     "base_uri": "https://localhost:8080/"
    },
    "executionInfo": {
     "elapsed": 369,
     "status": "ok",
     "timestamp": 1642508383693,
     "user": {
      "displayName": "StructMech Lab",
      "photoUrl": "https://lh3.googleusercontent.com/a/default-user=s64",
      "userId": "09364305318944848418"
     },
     "user_tz": -180
    },
    "id": "wwKySyHYRrTd",
    "outputId": "ea53cb8d-9fa4-480c-c9c9-ed9af5f7a4bd"
   },
   "outputs": [],
   "source": [
    "a = 5\n",
    "print(a) \n",
    "\n",
    "my_string = 'I\\'m a whizz-kid at Python programming'\n",
    "print(my_string)\n",
    "\n",
    "# Also remember that the hashtag symbol indicates a comment in Python"
   ]
  },
  {
   "cell_type": "markdown",
   "metadata": {
    "id": "_wvQIgDRRrTf"
   },
   "source": [
    "We can also print formatted output. This is something you probably haven't seen before, but is very useful:"
   ]
  },
  {
   "cell_type": "code",
   "execution_count": null,
   "metadata": {
    "colab": {
     "base_uri": "https://localhost:8080/"
    },
    "executionInfo": {
     "elapsed": 21,
     "status": "ok",
     "timestamp": 1642508383995,
     "user": {
      "displayName": "StructMech Lab",
      "photoUrl": "https://lh3.googleusercontent.com/a/default-user=s64",
      "userId": "09364305318944848418"
     },
     "user_tz": -180
    },
    "id": "Ex-oct98RrTf",
    "outputId": "f86c6e37-46e3-4d7c-97fd-4ccca2c7c0ba"
   },
   "outputs": [],
   "source": [
    "string1 = 'dogs'\n",
    "string2 = 'cats'\n",
    "\n",
    "print('In my house I have {} and {}'.format(string1, string2)) # The variables are inserted between the curly brackets"
   ]
  },
  {
   "cell_type": "markdown",
   "metadata": {
    "id": "1q1NDM0CRrTg"
   },
   "source": [
    "We can also change the order by specifying indices within the curly brackets. E.g."
   ]
  },
  {
   "cell_type": "code",
   "execution_count": null,
   "metadata": {
    "colab": {
     "base_uri": "https://localhost:8080/"
    },
    "executionInfo": {
     "elapsed": 15,
     "status": "ok",
     "timestamp": 1642508383996,
     "user": {
      "displayName": "StructMech Lab",
      "photoUrl": "https://lh3.googleusercontent.com/a/default-user=s64",
      "userId": "09364305318944848418"
     },
     "user_tz": -180
    },
    "id": "1hu2WV_PRrTh",
    "outputId": "854baab9-6f16-4a94-89ae-06f8ca019eba"
   },
   "outputs": [],
   "source": [
    "print('In my house I have {1} and {0}'.format(string1, string2)) # Numbering starts at 0"
   ]
  },
  {
   "cell_type": "markdown",
   "metadata": {
    "id": "4F_S4aYERrTi"
   },
   "source": [
    "For formatted numbers we have to specify a few more things. E.g. let's output some floating point numbers"
   ]
  },
  {
   "cell_type": "code",
   "execution_count": null,
   "metadata": {
    "colab": {
     "base_uri": "https://localhost:8080/"
    },
    "executionInfo": {
     "elapsed": 13,
     "status": "ok",
     "timestamp": 1642508383996,
     "user": {
      "displayName": "StructMech Lab",
      "photoUrl": "https://lh3.googleusercontent.com/a/default-user=s64",
      "userId": "09364305318944848418"
     },
     "user_tz": -180
    },
    "id": "qaA9ZMX8RrTi",
    "outputId": "7e40ff74-2a81-466a-8aa9-01dc16ebc907"
   },
   "outputs": [],
   "source": [
    "number0 = 1/3\n",
    "number1 = 10/3\n",
    "\n",
    "print('My first number is {} and second number is {} '.format(number0, number1))"
   ]
  },
  {
   "cell_type": "markdown",
   "metadata": {
    "id": "o5ur5wX6RrTi"
   },
   "source": [
    "To output these with 5 decimal places we can do the following:"
   ]
  },
  {
   "cell_type": "code",
   "execution_count": null,
   "metadata": {
    "colab": {
     "base_uri": "https://localhost:8080/"
    },
    "executionInfo": {
     "elapsed": 11,
     "status": "ok",
     "timestamp": 1642508383996,
     "user": {
      "displayName": "StructMech Lab",
      "photoUrl": "https://lh3.googleusercontent.com/a/default-user=s64",
      "userId": "09364305318944848418"
     },
     "user_tz": -180
    },
    "id": "vtVdftC2RrTj",
    "outputId": "2291c7dc-669f-46e9-f6ae-ade9c0b57a74"
   },
   "outputs": [],
   "source": [
    "print('My first number is {:.5f} and second number is {:.5f} '.format(number0, number1)) "
   ]
  },
  {
   "cell_type": "markdown",
   "metadata": {
    "id": "NKEG5M5fRrTj"
   },
   "source": [
    "where `.5f` should be interpreted as \"output the number as a floating point number with 5 d.p.\""
   ]
  },
  {
   "cell_type": "markdown",
   "metadata": {
    "id": "LwzNIH-XRrTk"
   },
   "source": [
    "If you really want you can also change the order like so (probably the most complicated output you'll encounter)"
   ]
  },
  {
   "cell_type": "code",
   "execution_count": null,
   "metadata": {
    "colab": {
     "base_uri": "https://localhost:8080/"
    },
    "executionInfo": {
     "elapsed": 10,
     "status": "ok",
     "timestamp": 1642508383997,
     "user": {
      "displayName": "StructMech Lab",
      "photoUrl": "https://lh3.googleusercontent.com/a/default-user=s64",
      "userId": "09364305318944848418"
     },
     "user_tz": -180
    },
    "id": "FD4TYV0aRrTk",
    "outputId": "d8c62ecb-5d35-4f84-8734-7f2e86b0c7ca"
   },
   "outputs": [],
   "source": [
    "print('My second number is {1:.5f} and first number is {0:.5f} '.format(number0, number1)) "
   ]
  },
  {
   "cell_type": "markdown",
   "metadata": {
    "id": "STJhJI4aRrTk"
   },
   "source": [
    "## For loop"
   ]
  },
  {
   "cell_type": "markdown",
   "metadata": {
    "id": "GXiZC2bORrTl"
   },
   "source": [
    "Remember that using the `range()` function we loop up until the last value minus 1. E.g."
   ]
  },
  {
   "cell_type": "code",
   "execution_count": null,
   "metadata": {
    "colab": {
     "base_uri": "https://localhost:8080/"
    },
    "executionInfo": {
     "elapsed": 8,
     "status": "ok",
     "timestamp": 1642508383997,
     "user": {
      "displayName": "StructMech Lab",
      "photoUrl": "https://lh3.googleusercontent.com/a/default-user=s64",
      "userId": "09364305318944848418"
     },
     "user_tz": -180
    },
    "id": "OWzVc8M6RrTl",
    "outputId": "cfd9c4c4-f903-4bd7-c374-30cf9551b529"
   },
   "outputs": [],
   "source": [
    "for i in range(0,10):\n",
    "    print('Currently on index: {}'.format(i))"
   ]
  },
  {
   "cell_type": "markdown",
   "metadata": {
    "id": "cPITGpJCRrTl"
   },
   "source": [
    "And we can loop downwards like so"
   ]
  },
  {
   "cell_type": "code",
   "execution_count": null,
   "metadata": {
    "colab": {
     "base_uri": "https://localhost:8080/"
    },
    "executionInfo": {
     "elapsed": 404,
     "status": "ok",
     "timestamp": 1642508384395,
     "user": {
      "displayName": "StructMech Lab",
      "photoUrl": "https://lh3.googleusercontent.com/a/default-user=s64",
      "userId": "09364305318944848418"
     },
     "user_tz": -180
    },
    "id": "EG3QdJxPRrTl",
    "outputId": "4ed03a27-8000-4a43-ecbd-3626f057a7e1"
   },
   "outputs": [],
   "source": [
    "for i in range(10,0,-1):\n",
    "    print('Currently on index: {}'.format(i))"
   ]
  },
  {
   "cell_type": "markdown",
   "metadata": {
    "id": "DV9pW37fRrTm"
   },
   "source": [
    "## While loop"
   ]
  },
  {
   "cell_type": "markdown",
   "metadata": {
    "id": "qEOL8mSURrTm"
   },
   "source": [
    "Be very careful! You can very easily end up with infinite loops!"
   ]
  },
  {
   "cell_type": "code",
   "execution_count": null,
   "metadata": {
    "colab": {
     "base_uri": "https://localhost:8080/"
    },
    "executionInfo": {
     "elapsed": 17,
     "status": "ok",
     "timestamp": 1642508384395,
     "user": {
      "displayName": "StructMech Lab",
      "photoUrl": "https://lh3.googleusercontent.com/a/default-user=s64",
      "userId": "09364305318944848418"
     },
     "user_tz": -180
    },
    "id": "a8AIrMTaRrTm",
    "outputId": "67f0cf0e-5aee-4f2b-f0ad-22d41d11b52b"
   },
   "outputs": [],
   "source": [
    "mynumber = 20\n",
    "\n",
    "while(mynumber > 0):  # We only continue to loop while mynumber is greater than 0\n",
    "    mynumber -= 2     # subtract two from mynumber\n",
    "    print('My number is currently set to {}'.format(mynumber))\n",
    "    "
   ]
  },
  {
   "cell_type": "markdown",
   "metadata": {
    "id": "iQMUwomrRrTn"
   },
   "source": [
    "## Integer division"
   ]
  },
  {
   "cell_type": "markdown",
   "metadata": {
    "id": "ZyxQc7wkRrTn"
   },
   "source": [
    "You might remember that given two integers performing division will return an integer which will be rounded down if required. However, in Python 3 a floating point number is returned. E.g."
   ]
  },
  {
   "cell_type": "code",
   "execution_count": null,
   "metadata": {
    "colab": {
     "base_uri": "https://localhost:8080/"
    },
    "executionInfo": {
     "elapsed": 16,
     "status": "ok",
     "timestamp": 1642508384396,
     "user": {
      "displayName": "StructMech Lab",
      "photoUrl": "https://lh3.googleusercontent.com/a/default-user=s64",
      "userId": "09364305318944848418"
     },
     "user_tz": -180
    },
    "id": "ZnCQUMuwRrTn",
    "outputId": "47cb2d0b-da0c-44c9-f705-42e4a6631e86"
   },
   "outputs": [],
   "source": [
    "b = 5\n",
    "c = 3\n",
    "result = b / c\n",
    "print(result)"
   ]
  },
  {
   "cell_type": "markdown",
   "metadata": {
    "id": "FYYMVxj0RrTo"
   },
   "source": [
    "To return an integer result which is rounded down, do the following:"
   ]
  },
  {
   "cell_type": "code",
   "execution_count": null,
   "metadata": {
    "colab": {
     "base_uri": "https://localhost:8080/"
    },
    "executionInfo": {
     "elapsed": 6,
     "status": "ok",
     "timestamp": 1642508384396,
     "user": {
      "displayName": "StructMech Lab",
      "photoUrl": "https://lh3.googleusercontent.com/a/default-user=s64",
      "userId": "09364305318944848418"
     },
     "user_tz": -180
    },
    "id": "fYX58ZeLRrTo",
    "outputId": "e12084f0-8802-4b9e-f867-86d621621c44"
   },
   "outputs": [],
   "source": [
    "result = b // c  # note the double slash\n",
    "print(result)"
   ]
  },
  {
   "cell_type": "markdown",
   "metadata": {
    "id": "RtxxnQ4JRrTo"
   },
   "source": [
    "## Input"
   ]
  },
  {
   "cell_type": "markdown",
   "metadata": {
    "id": "9Ur9LpqYRrTo"
   },
   "source": [
    "We can simply use the `input()` function. But remember, any input is considered as text."
   ]
  },
  {
   "cell_type": "code",
   "execution_count": null,
   "metadata": {
    "colab": {
     "base_uri": "https://localhost:8080/"
    },
    "executionInfo": {
     "elapsed": 75278,
     "status": "ok",
     "timestamp": 1642508459670,
     "user": {
      "displayName": "StructMech Lab",
      "photoUrl": "https://lh3.googleusercontent.com/a/default-user=s64",
      "userId": "09364305318944848418"
     },
     "user_tz": -180
    },
    "id": "RtCpwEgkRrTo",
    "outputId": "d6b5251d-e5b1-4fb0-ec53-cae4629e456c"
   },
   "outputs": [],
   "source": [
    "mytext = input(\"Please enter your random text \")\n",
    "print(mytext)"
   ]
  },
  {
   "cell_type": "markdown",
   "metadata": {
    "id": "GbieaHXRRrTp"
   },
   "source": [
    "And you must convert appropriately if you want to input an integer...."
   ]
  },
  {
   "cell_type": "code",
   "execution_count": null,
   "metadata": {
    "colab": {
     "base_uri": "https://localhost:8080/"
    },
    "executionInfo": {
     "elapsed": 1668,
     "status": "ok",
     "timestamp": 1642508461335,
     "user": {
      "displayName": "StructMech Lab",
      "photoUrl": "https://lh3.googleusercontent.com/a/default-user=s64",
      "userId": "09364305318944848418"
     },
     "user_tz": -180
    },
    "id": "Ppg3Aku7RrTp",
    "outputId": "c5e7a46c-6624-4bc1-d5bf-da2feda2e6ef"
   },
   "outputs": [],
   "source": [
    "raw_text = input('Please enter your integer ')\n",
    "number = int(raw_text)\n",
    "print(number)"
   ]
  },
  {
   "cell_type": "markdown",
   "metadata": {
    "id": "jhYms0s9RrTp"
   },
   "source": [
    "And similarly for floating point numbers...."
   ]
  },
  {
   "cell_type": "code",
   "execution_count": null,
   "metadata": {
    "colab": {
     "base_uri": "https://localhost:8080/"
    },
    "executionInfo": {
     "elapsed": 1160,
     "status": "ok",
     "timestamp": 1642508462482,
     "user": {
      "displayName": "StructMech Lab",
      "photoUrl": "https://lh3.googleusercontent.com/a/default-user=s64",
      "userId": "09364305318944848418"
     },
     "user_tz": -180
    },
    "id": "l1PI0b3DRrTp",
    "outputId": "580389e0-a464-4859-9ce4-d51840d538d0"
   },
   "outputs": [],
   "source": [
    "raw_text = input('Please enter your floating point number ')\n",
    "float_number = float(raw_text)\n",
    "print(float_number)"
   ]
  },
  {
   "cell_type": "markdown",
   "metadata": {
    "id": "Li9rFAnVRrTp"
   },
   "source": [
    "# Exercises\n"
   ]
  },
  {
   "cell_type": "markdown",
   "metadata": {
    "id": "PuFAFD7HRrTq"
   },
   "source": [
    "## Section 1 - Python refresher"
   ]
  },
  {
   "cell_type": "markdown",
   "metadata": {
    "id": "B57rvpmARrTq"
   },
   "source": [
    "## Lists and loops"
   ]
  },
  {
   "cell_type": "code",
   "execution_count": null,
   "metadata": {
    "colab": {
     "base_uri": "https://localhost:8080/"
    },
    "executionInfo": {
     "elapsed": 12,
     "status": "ok",
     "timestamp": 1642508462482,
     "user": {
      "displayName": "StructMech Lab",
      "photoUrl": "https://lh3.googleusercontent.com/a/default-user=s64",
      "userId": "09364305318944848418"
     },
     "user_tz": -180
    },
    "id": "dlLFH4NSRrTq",
    "outputId": "5e9d9a96-71e5-4045-9841-ad820c35a435"
   },
   "outputs": [],
   "source": [
    "mylist = [1, 2, 3, 4]        # manually create a list with a set of values\n",
    "mybiglist = list(range(100)) # create a list using the range function\n",
    "print(mybiglist)"
   ]
  },
  {
   "cell_type": "markdown",
   "metadata": {
    "id": "cgGTccM0RrTq"
   },
   "source": [
    "### Exercise 1.1 Lists and loops"
   ]
  },
  {
   "cell_type": "markdown",
   "metadata": {
    "id": "hOIDvTudRrTq"
   },
   "source": [
    "Loop over each of the values in `mybiglist` and print out the squared value"
   ]
  },
  {
   "cell_type": "code",
   "execution_count": null,
   "metadata": {
    "executionInfo": {
     "elapsed": 10,
     "status": "ok",
     "timestamp": 1642508462483,
     "user": {
      "displayName": "StructMech Lab",
      "photoUrl": "https://lh3.googleusercontent.com/a/default-user=s64",
      "userId": "09364305318944848418"
     },
     "user_tz": -180
    },
    "id": "X_0uZx9ORrTq"
   },
   "outputs": [],
   "source": [
    "# Complete the exercise here\n",
    "\n"
   ]
  },
  {
   "cell_type": "markdown",
   "metadata": {
    "id": "gpQoTHOaRrTr"
   },
   "source": [
    "## Functions"
   ]
  },
  {
   "cell_type": "markdown",
   "metadata": {
    "id": "q9TB4PHtRrTr"
   },
   "source": [
    "Remember functions? They allow you to perform an operation on different input values. If you perform a similar operation many times, then quite possibly a function is an efficient solution."
   ]
  },
  {
   "cell_type": "code",
   "execution_count": null,
   "metadata": {
    "colab": {
     "base_uri": "https://localhost:8080/"
    },
    "executionInfo": {
     "elapsed": 10,
     "status": "ok",
     "timestamp": 1642508462483,
     "user": {
      "displayName": "StructMech Lab",
      "photoUrl": "https://lh3.googleusercontent.com/a/default-user=s64",
      "userId": "09364305318944848418"
     },
     "user_tz": -180
    },
    "id": "2A7j65q3RrTr",
    "outputId": "9ea76028-6182-4ac7-87ad-22d2ceac7694"
   },
   "outputs": [],
   "source": [
    "def myfunc(x): \n",
    "    return x**3 + 1\n",
    "\n",
    "print(myfunc(1))\n",
    "print(myfunc(2))"
   ]
  },
  {
   "cell_type": "markdown",
   "metadata": {
    "id": "VBb1UaGXRrTr"
   },
   "source": [
    "### Exercise 1.2 Functions"
   ]
  },
  {
   "cell_type": "markdown",
   "metadata": {
    "id": "KZdcvt-VRrTr"
   },
   "source": [
    "Create a function that takes two inputs: $b$ and $d$ which represent the breadth and depth of a beam. Return the second moment of area assuming a rectangular cross-section.  Output the second moment of area for various $b$ and $d$ values."
   ]
  },
  {
   "cell_type": "code",
   "execution_count": null,
   "metadata": {
    "executionInfo": {
     "elapsed": 8,
     "status": "ok",
     "timestamp": 1642508462484,
     "user": {
      "displayName": "StructMech Lab",
      "photoUrl": "https://lh3.googleusercontent.com/a/default-user=s64",
      "userId": "09364305318944848418"
     },
     "user_tz": -180
    },
    "id": "qhoVy4xmRrTr"
   },
   "outputs": [],
   "source": [
    "# Complete your exercise here (remember I = bd^3 / 12)    \n",
    "\n"
   ]
  },
  {
   "cell_type": "markdown",
   "metadata": {
    "id": "SDweuQyBRrTs"
   },
   "source": [
    "## Basic plotting"
   ]
  },
  {
   "cell_type": "markdown",
   "metadata": {
    "id": "0-AomzBRRrTs"
   },
   "source": [
    "Below is an example of how to plot $\\sin(x)$ for $0\\leq x \\leq 2\\pi$."
   ]
  },
  {
   "cell_type": "code",
   "execution_count": null,
   "metadata": {
    "colab": {
     "base_uri": "https://localhost:8080/",
     "height": 296
    },
    "executionInfo": {
     "elapsed": 649,
     "status": "ok",
     "timestamp": 1642508463126,
     "user": {
      "displayName": "StructMech Lab",
      "photoUrl": "https://lh3.googleusercontent.com/a/default-user=s64",
      "userId": "09364305318944848418"
     },
     "user_tz": -180
    },
    "id": "x24EU7ImRrTs",
    "outputId": "b4314429-ff4b-48cb-ea57-e4c31161c72c"
   },
   "outputs": [],
   "source": [
    "import matplotlib.pyplot as plt # import the plotting library\n",
    "import numpy as np # import the numerical library\n",
    "\n",
    "xvals = np.linspace(0.0, 2.0*np.pi, 100) # Generate a list of 100 x-values from 0 to 2*pi \n",
    "yvals = np.sin(xvals) # generate y-values for the function sin(x)\n",
    "\n",
    "plt.plot(xvals, yvals)\n",
    "plt.xlabel('x')\n",
    "plt.ylabel('sin(x)')"
   ]
  },
  {
   "cell_type": "markdown",
   "metadata": {
    "id": "3bSS0cBuRrTs"
   },
   "source": [
    "### Exercise 1.3 Plotting"
   ]
  },
  {
   "cell_type": "markdown",
   "metadata": {
    "id": "dzVrSueZRrTs"
   },
   "source": [
    "Generate a list of 10 values of your choice. Using the function `myfunc` above, generate a list of y-values using the x-values as an input. Plot these x- and y-values."
   ]
  },
  {
   "cell_type": "code",
   "execution_count": null,
   "metadata": {
    "executionInfo": {
     "elapsed": 50,
     "status": "ok",
     "timestamp": 1642508463127,
     "user": {
      "displayName": "StructMech Lab",
      "photoUrl": "https://lh3.googleusercontent.com/a/default-user=s64",
      "userId": "09364305318944848418"
     },
     "user_tz": -180
    },
    "id": "dtFwVeMaRrTs"
   },
   "outputs": [],
   "source": [
    "# Complete the exercise here\n",
    "\n"
   ]
  },
  {
   "cell_type": "markdown",
   "metadata": {
    "id": "ls61VX8aRrTt"
   },
   "source": [
    "# Section 2 - Matrices and vectors"
   ]
  },
  {
   "cell_type": "markdown",
   "metadata": {
    "id": "cyuW7ZbGRrTt"
   },
   "source": [
    "## Creating matrices"
   ]
  },
  {
   "cell_type": "markdown",
   "metadata": {
    "id": "Q8xd2rOIRrTt"
   },
   "source": [
    "We can create a matrix in a number of ways. Here's how to create it through a string:"
   ]
  },
  {
   "cell_type": "code",
   "execution_count": null,
   "metadata": {
    "colab": {
     "base_uri": "https://localhost:8080/"
    },
    "executionInfo": {
     "elapsed": 50,
     "status": "ok",
     "timestamp": 1642508463127,
     "user": {
      "displayName": "StructMech Lab",
      "photoUrl": "https://lh3.googleusercontent.com/a/default-user=s64",
      "userId": "09364305318944848418"
     },
     "user_tz": -180
    },
    "id": "dB-THeBqRrTt",
    "outputId": "840f2ba4-768e-41a6-95fb-8974b8f3a5b2"
   },
   "outputs": [],
   "source": [
    "import numpy.matlib # import the matrix library\n",
    "                    # remember, we only need to import a library once for a notebook\n",
    "\n",
    "A = np.matrix('1 2 3 4; 5 6 7 8; 9 10 11 12; 13 14 15 16')\n",
    "print(A)"
   ]
  },
  {
   "cell_type": "markdown",
   "metadata": {
    "id": "lUVLDl_ORrTt"
   },
   "source": [
    "and here is how to create it with lists:"
   ]
  },
  {
   "cell_type": "code",
   "execution_count": null,
   "metadata": {
    "colab": {
     "base_uri": "https://localhost:8080/"
    },
    "executionInfo": {
     "elapsed": 47,
     "status": "ok",
     "timestamp": 1642508463128,
     "user": {
      "displayName": "StructMech Lab",
      "photoUrl": "https://lh3.googleusercontent.com/a/default-user=s64",
      "userId": "09364305318944848418"
     },
     "user_tz": -180
    },
    "id": "oeQRdFzBRrTt",
    "outputId": "1fda2653-7a61-44da-91dc-17a01bd6b56d"
   },
   "outputs": [],
   "source": [
    "import numpy as np\n",
    "B = np.matrix([[1, 2, 3], [4, 5, 6], [7, 8, 9]])  # Be careful to have the correct number of square brackets\n",
    "print(B)"
   ]
  },
  {
   "cell_type": "markdown",
   "metadata": {
    "id": "CmPU7vaXRrTt"
   },
   "source": [
    "Other important matrices include the zero matrix and the identity matrix:"
   ]
  },
  {
   "cell_type": "code",
   "execution_count": null,
   "metadata": {
    "colab": {
     "base_uri": "https://localhost:8080/"
    },
    "executionInfo": {
     "elapsed": 45,
     "status": "ok",
     "timestamp": 1642508463128,
     "user": {
      "displayName": "StructMech Lab",
      "photoUrl": "https://lh3.googleusercontent.com/a/default-user=s64",
      "userId": "09364305318944848418"
     },
     "user_tz": -180
    },
    "id": "zyzYndNIRrTu",
    "outputId": "b2e9689e-c42d-4f89-8961-48fa5f664502"
   },
   "outputs": [],
   "source": [
    "Z = np.matlib.zeros((4,4))\n",
    "print(Z)"
   ]
  },
  {
   "cell_type": "code",
   "execution_count": null,
   "metadata": {
    "colab": {
     "base_uri": "https://localhost:8080/"
    },
    "executionInfo": {
     "elapsed": 44,
     "status": "ok",
     "timestamp": 1642508463129,
     "user": {
      "displayName": "StructMech Lab",
      "photoUrl": "https://lh3.googleusercontent.com/a/default-user=s64",
      "userId": "09364305318944848418"
     },
     "user_tz": -180
    },
    "id": "qfN8c1EhRrTu",
    "outputId": "965c2152-34d0-4f65-b376-dad09eb2b3b4"
   },
   "outputs": [],
   "source": [
    "I = np.matlib.identity(3)\n",
    "print(I)"
   ]
  },
  {
   "cell_type": "markdown",
   "metadata": {
    "id": "K2KCjvLlRrTu"
   },
   "source": [
    "You may also wish to tranpose a matrix (i.e. swap rows and columns)"
   ]
  },
  {
   "cell_type": "code",
   "execution_count": null,
   "metadata": {
    "colab": {
     "base_uri": "https://localhost:8080/"
    },
    "executionInfo": {
     "elapsed": 42,
     "status": "ok",
     "timestamp": 1642508463129,
     "user": {
      "displayName": "StructMech Lab",
      "photoUrl": "https://lh3.googleusercontent.com/a/default-user=s64",
      "userId": "09364305318944848418"
     },
     "user_tz": -180
    },
    "id": "siTyFCfjRrTu",
    "outputId": "f3ed30f0-aa66-47e5-a322-db8928690e62"
   },
   "outputs": [],
   "source": [
    "myrandommat = np.matlib.rand(3,3) # Create a 3x3 matrix with random values\n",
    "print(myrandommat)\n",
    "\n",
    "print('And here is the transpose')\n",
    "print(myrandommat.T) # print out the transpose of the matrix"
   ]
  },
  {
   "cell_type": "markdown",
   "metadata": {
    "id": "dBgrLM6YRrTu"
   },
   "source": [
    "## Creating vectors"
   ]
  },
  {
   "cell_type": "markdown",
   "metadata": {
    "id": "oTXc4dPrRrTu"
   },
   "source": [
    "This is the same as matrices. For example, to create a column vector:"
   ]
  },
  {
   "cell_type": "code",
   "execution_count": null,
   "metadata": {
    "colab": {
     "base_uri": "https://localhost:8080/"
    },
    "executionInfo": {
     "elapsed": 41,
     "status": "ok",
     "timestamp": 1642508463130,
     "user": {
      "displayName": "StructMech Lab",
      "photoUrl": "https://lh3.googleusercontent.com/a/default-user=s64",
      "userId": "09364305318944848418"
     },
     "user_tz": -180
    },
    "id": "2M-sHkjpRrTv",
    "outputId": "fb1a2d53-5a39-474b-f168-a857a82ff655"
   },
   "outputs": [],
   "source": [
    "myvec = np.matrix([[1], [2], [3]])\n",
    "print(myvec)"
   ]
  },
  {
   "cell_type": "markdown",
   "metadata": {
    "id": "ukTvHGS4RrTv"
   },
   "source": [
    "Note, this is not the same as a row vector. E.g."
   ]
  },
  {
   "cell_type": "code",
   "execution_count": null,
   "metadata": {
    "colab": {
     "base_uri": "https://localhost:8080/"
    },
    "executionInfo": {
     "elapsed": 39,
     "status": "ok",
     "timestamp": 1642508463130,
     "user": {
      "displayName": "StructMech Lab",
      "photoUrl": "https://lh3.googleusercontent.com/a/default-user=s64",
      "userId": "09364305318944848418"
     },
     "user_tz": -180
    },
    "id": "wmQMsyXBRrTv",
    "outputId": "d5b5e24e-21cd-4238-a816-1efdf5ba2d2c"
   },
   "outputs": [],
   "source": [
    "myrowvec = np.matrix([1,2,3])\n",
    "print(myrowvec)"
   ]
  },
  {
   "cell_type": "markdown",
   "metadata": {
    "id": "A-EATSU_RrTv"
   },
   "source": [
    "## Matrix addition, subtraction and multiplication"
   ]
  },
  {
   "cell_type": "markdown",
   "metadata": {
    "id": "oCH5nvNQRrTv"
   },
   "source": [
    "This is very simple, but you must ensure that the dimensions of the matrix/vector are correct. E.g. You cannot multiply a 3x3 matrix by a 4x3 matrix."
   ]
  },
  {
   "cell_type": "code",
   "execution_count": null,
   "metadata": {
    "colab": {
     "base_uri": "https://localhost:8080/"
    },
    "executionInfo": {
     "elapsed": 38,
     "status": "ok",
     "timestamp": 1642508463131,
     "user": {
      "displayName": "StructMech Lab",
      "photoUrl": "https://lh3.googleusercontent.com/a/default-user=s64",
      "userId": "09364305318944848418"
     },
     "user_tz": -180
    },
    "id": "MnokOnKTRrTv",
    "outputId": "1bab0e64-a6f2-4729-e2d2-cff5aacfb4fd"
   },
   "outputs": [],
   "source": [
    "M = np.matrix([[1,2,3], [3,4,5], [6,7,8]])\n",
    "N = np.matrix([[1,1,1], [1,1,1], [1,1,1]])\n",
    "print(M)\n",
    "print()\n",
    "print(N)\n",
    "print()\n",
    "print(M + N)\n",
    "print()\n",
    "print(M - N)\n",
    "print()\n",
    "print(M * N)"
   ]
  },
  {
   "cell_type": "code",
   "execution_count": null,
   "metadata": {
    "executionInfo": {
     "elapsed": 36,
     "status": "ok",
     "timestamp": 1642508463131,
     "user": {
      "displayName": "StructMech Lab",
      "photoUrl": "https://lh3.googleusercontent.com/a/default-user=s64",
      "userId": "09364305318944848418"
     },
     "user_tz": -180
    },
    "id": "dJHY78iaRrTw"
   },
   "outputs": [],
   "source": [
    "P = np.matrix([[2,2,2], [3,3,3]])\n",
    "#print(M * P) # you can try - it will produce an error"
   ]
  },
  {
   "cell_type": "markdown",
   "metadata": {
    "id": "YPj7Iqm_RrTw"
   },
   "source": [
    "### Exercise 2.1 Working with matrices and vectors"
   ]
  },
  {
   "cell_type": "markdown",
   "metadata": {
    "id": "L5HCj9jNRrTw"
   },
   "source": [
    "Create a 3x3 matrix with values of your choice and a 3x3 identity matrix. Multiply these matrices together and print the output. Does this make sense?"
   ]
  },
  {
   "cell_type": "code",
   "execution_count": null,
   "metadata": {
    "executionInfo": {
     "elapsed": 36,
     "status": "ok",
     "timestamp": 1642508463131,
     "user": {
      "displayName": "StructMech Lab",
      "photoUrl": "https://lh3.googleusercontent.com/a/default-user=s64",
      "userId": "09364305318944848418"
     },
     "user_tz": -180
    },
    "id": "B33LH7kpRrTw"
   },
   "outputs": [],
   "source": [
    "# Complete the exercise here\n",
    "\n",
    "\n"
   ]
  },
  {
   "cell_type": "markdown",
   "metadata": {
    "id": "rLE053UtRrTw"
   },
   "source": [
    "Create a column vector of size 3 with values of your choice. Multiply the transpose of the previous matrix you created with this new vector"
   ]
  },
  {
   "cell_type": "code",
   "execution_count": null,
   "metadata": {
    "executionInfo": {
     "elapsed": 36,
     "status": "ok",
     "timestamp": 1642508463132,
     "user": {
      "displayName": "StructMech Lab",
      "photoUrl": "https://lh3.googleusercontent.com/a/default-user=s64",
      "userId": "09364305318944848418"
     },
     "user_tz": -180
    },
    "id": "_xRVwgMVRrTw"
   },
   "outputs": [],
   "source": [
    "# Complete the exercise here\n"
   ]
  },
  {
   "cell_type": "markdown",
   "metadata": {
    "id": "14D2IAaARrTw"
   },
   "source": [
    "## Modifying matrix entries"
   ]
  },
  {
   "cell_type": "markdown",
   "metadata": {
    "id": "V5GoMBnzRrTw"
   },
   "source": [
    "We can access and modify individual matrix entries using index notation, where the first index is the row index, and the second is the column index. Indexes start from 0, not 1. For example:"
   ]
  },
  {
   "cell_type": "code",
   "execution_count": null,
   "metadata": {
    "colab": {
     "base_uri": "https://localhost:8080/"
    },
    "executionInfo": {
     "elapsed": 36,
     "status": "ok",
     "timestamp": 1642508463132,
     "user": {
      "displayName": "StructMech Lab",
      "photoUrl": "https://lh3.googleusercontent.com/a/default-user=s64",
      "userId": "09364305318944848418"
     },
     "user_tz": -180
    },
    "id": "OfzB9JppRrTx",
    "outputId": "cabd23e7-6429-4a4b-e489-875c83fb934f"
   },
   "outputs": [],
   "source": [
    "M = np.matlib.zeros((4,4))\n",
    "M[0,0] = 1 # First row, first column\n",
    "M[1,1] = 2 # Second row, second column\n",
    "M[2,3] = 3 # Third row, fourth column\n",
    "print(M)\n",
    "\n",
    "M[1,1] += 2\n",
    "M[3,3] -= 2\n",
    "print(M)"
   ]
  },
  {
   "cell_type": "markdown",
   "metadata": {
    "id": "CbNCT286RrTx"
   },
   "source": [
    "Sometimes we want to delete an entire row or column from a matrix. For example, we can delete the first row and first column of the matrix M as follows:"
   ]
  },
  {
   "cell_type": "code",
   "execution_count": null,
   "metadata": {
    "colab": {
     "base_uri": "https://localhost:8080/"
    },
    "executionInfo": {
     "elapsed": 33,
     "status": "ok",
     "timestamp": 1642508463132,
     "user": {
      "displayName": "StructMech Lab",
      "photoUrl": "https://lh3.googleusercontent.com/a/default-user=s64",
      "userId": "09364305318944848418"
     },
     "user_tz": -180
    },
    "id": "RxftDcO_RrTx",
    "outputId": "ea9d40ad-eeac-41db-b7dc-1c8563c8a089"
   },
   "outputs": [],
   "source": [
    "M = np.delete(M, 0, axis=0) # delete first row\n",
    "M = np.delete(M, 0, axis=1) # delete first column\n",
    "print(M)"
   ]
  },
  {
   "cell_type": "markdown",
   "metadata": {
    "id": "zEMfZqUVRrTx"
   },
   "source": [
    "### Exercise 2.2 Modifying matrices"
   ]
  },
  {
   "cell_type": "markdown",
   "metadata": {
    "id": "DP1pTOcHRrTx"
   },
   "source": [
    "Create a 3x3 matrix and 3x1 vector with values of your choice. Increment all values in the second row and second column of your matrix by 2. Multiply the transpose of this matrix with your vector."
   ]
  },
  {
   "cell_type": "code",
   "execution_count": null,
   "metadata": {
    "executionInfo": {
     "elapsed": 32,
     "status": "ok",
     "timestamp": 1642508463133,
     "user": {
      "displayName": "StructMech Lab",
      "photoUrl": "https://lh3.googleusercontent.com/a/default-user=s64",
      "userId": "09364305318944848418"
     },
     "user_tz": -180
    },
    "id": "UgjIinUYRrTx"
   },
   "outputs": [],
   "source": [
    "# Complete the exercise here\n",
    "\n"
   ]
  },
  {
   "cell_type": "markdown",
   "metadata": {
    "id": "lnYHRTjfRrTx"
   },
   "source": [
    "## Matrix assembly"
   ]
  },
  {
   "cell_type": "markdown",
   "metadata": {
    "id": "jceTZWpfRrTy"
   },
   "source": [
    "In many of your future tasks (and assignment) you will be required to 'assemble' smaller matrices into a larger matrix. For example, let's create a 4x4 matrix of ones and 'assemble' a smaller matrix into the larger matrix:"
   ]
  },
  {
   "cell_type": "code",
   "execution_count": null,
   "metadata": {
    "colab": {
     "base_uri": "https://localhost:8080/"
    },
    "executionInfo": {
     "elapsed": 32,
     "status": "ok",
     "timestamp": 1642508463133,
     "user": {
      "displayName": "StructMech Lab",
      "photoUrl": "https://lh3.googleusercontent.com/a/default-user=s64",
      "userId": "09364305318944848418"
     },
     "user_tz": -180
    },
    "id": "I8Z3l3GFRrTy",
    "outputId": "5b2fa94f-d715-469b-9ab6-e08c03ee0ec1"
   },
   "outputs": [],
   "source": [
    "globalmatrix = np.matlib.ones((4,4)) # Larger (global) matrix\n",
    "localmatrix = np.matrix([[1, 2], [3,4]]) # Smaller (local) matrix\n",
    "\n",
    "print(globalmatrix)\n",
    "print(localmatrix)"
   ]
  },
  {
   "cell_type": "markdown",
   "metadata": {
    "id": "SKgxmZPsRrTy"
   },
   "source": [
    "We can specify the indicies where we want to insert this local matrix with a list:"
   ]
  },
  {
   "cell_type": "code",
   "execution_count": null,
   "metadata": {
    "executionInfo": {
     "elapsed": 31,
     "status": "ok",
     "timestamp": 1642508463134,
     "user": {
      "displayName": "StructMech Lab",
      "photoUrl": "https://lh3.googleusercontent.com/a/default-user=s64",
      "userId": "09364305318944848418"
     },
     "user_tz": -180
    },
    "id": "HBuqTaO_RrTy"
   },
   "outputs": [],
   "source": [
    "indices = [1,2] # insert the local matrix into the second and third rows/columns"
   ]
  },
  {
   "cell_type": "markdown",
   "metadata": {
    "id": "mCWDYs3GRrTy"
   },
   "source": [
    "We can add the local matrix to the global matrix in two ways. The first uses loops like so:"
   ]
  },
  {
   "cell_type": "code",
   "execution_count": null,
   "metadata": {
    "colab": {
     "base_uri": "https://localhost:8080/"
    },
    "executionInfo": {
     "elapsed": 30,
     "status": "ok",
     "timestamp": 1642508463134,
     "user": {
      "displayName": "StructMech Lab",
      "photoUrl": "https://lh3.googleusercontent.com/a/default-user=s64",
      "userId": "09364305318944848418"
     },
     "user_tz": -180
    },
    "id": "Cow-G1TjRrTy",
    "outputId": "c8fd6848-e2ba-4454-80ab-428b0cc19bc8"
   },
   "outputs": [],
   "source": [
    "for i in range(len(indices)):\n",
    "    for j in range(len(indices)):\n",
    "        globalmatrix[indices[i], indices[j]] += localmatrix[i,j]\n",
    "print(globalmatrix)"
   ]
  },
  {
   "cell_type": "markdown",
   "metadata": {
    "id": "4bp5pJNjRrTy"
   },
   "source": [
    "Or we can do it much more simply (and faster) using a special function called `ix_()`:"
   ]
  },
  {
   "cell_type": "code",
   "execution_count": null,
   "metadata": {
    "colab": {
     "base_uri": "https://localhost:8080/"
    },
    "executionInfo": {
     "elapsed": 29,
     "status": "ok",
     "timestamp": 1642508463134,
     "user": {
      "displayName": "StructMech Lab",
      "photoUrl": "https://lh3.googleusercontent.com/a/default-user=s64",
      "userId": "09364305318944848418"
     },
     "user_tz": -180
    },
    "id": "6i6wn47hRrTy",
    "outputId": "a334fc71-1bb9-4bd4-cb10-6d102adde245"
   },
   "outputs": [],
   "source": [
    "globalmatrix = np.matlib.ones((4,4)) # Reset to a 4x4 matrix of ones\n",
    "globalmatrix[np.ix_(indices, indices)] += localmatrix\n",
    "print(globalmatrix)"
   ]
  },
  {
   "cell_type": "markdown",
   "metadata": {
    "id": "ksqMBTx-RrTz"
   },
   "source": [
    "### Exercise 2.3 Matrix assembly"
   ]
  },
  {
   "cell_type": "markdown",
   "metadata": {
    "id": "NgDiS1tIRrTz"
   },
   "source": [
    "Create a 4x4 identity matrix and a smaller 2x2 identity matrix. Assemble the smaller matrix into the large matrix at row and column indices corresponding to [0,1]. "
   ]
  },
  {
   "cell_type": "code",
   "execution_count": null,
   "metadata": {
    "executionInfo": {
     "elapsed": 27,
     "status": "ok",
     "timestamp": 1642508463135,
     "user": {
      "displayName": "StructMech Lab",
      "photoUrl": "https://lh3.googleusercontent.com/a/default-user=s64",
      "userId": "09364305318944848418"
     },
     "user_tz": -180
    },
    "id": "CBGeq6mwRrTz"
   },
   "outputs": [],
   "source": [
    "#enter your code here\n",
    "\n"
   ]
  },
  {
   "cell_type": "markdown",
   "metadata": {
    "id": "L9AvqbyPRrTz"
   },
   "source": [
    "## Solving a system of equations"
   ]
  },
  {
   "cell_type": "markdown",
   "metadata": {
    "id": "rPksIdJGRrTz"
   },
   "source": [
    "Let's create a 5x5 matrix of random values:"
   ]
  },
  {
   "cell_type": "code",
   "execution_count": null,
   "metadata": {
    "colab": {
     "base_uri": "https://localhost:8080/"
    },
    "executionInfo": {
     "elapsed": 27,
     "status": "ok",
     "timestamp": 1642508463135,
     "user": {
      "displayName": "StructMech Lab",
      "photoUrl": "https://lh3.googleusercontent.com/a/default-user=s64",
      "userId": "09364305318944848418"
     },
     "user_tz": -180
    },
    "id": "WQCa0NtERrTz",
    "outputId": "4fbfd95d-b165-4cbb-dc88-461f9af5e48b"
   },
   "outputs": [],
   "source": [
    "A = np.matlib.rand(5,5)\n",
    "print(A)"
   ]
  },
  {
   "cell_type": "markdown",
   "metadata": {
    "id": "KvP06PJ3RrTz"
   },
   "source": [
    "and a vector of size 5 with random values:"
   ]
  },
  {
   "cell_type": "code",
   "execution_count": null,
   "metadata": {
    "colab": {
     "base_uri": "https://localhost:8080/"
    },
    "executionInfo": {
     "elapsed": 25,
     "status": "ok",
     "timestamp": 1642508463135,
     "user": {
      "displayName": "StructMech Lab",
      "photoUrl": "https://lh3.googleusercontent.com/a/default-user=s64",
      "userId": "09364305318944848418"
     },
     "user_tz": -180
    },
    "id": "EPUFeJ8yRrT0",
    "outputId": "025d422a-5666-4a89-c1e9-56f73731de65"
   },
   "outputs": [],
   "source": [
    "f = np.matlib.rand(5,1)\n",
    "print(f)"
   ]
  },
  {
   "cell_type": "markdown",
   "metadata": {
    "id": "UwBb4DBJRrT0"
   },
   "source": [
    "Now let's solve the system of equations $[\\mathbf{A}]\\{\\mathbf{x}\\} = \\{\\mathbf{f}\\}$"
   ]
  },
  {
   "cell_type": "code",
   "execution_count": null,
   "metadata": {
    "colab": {
     "base_uri": "https://localhost:8080/"
    },
    "executionInfo": {
     "elapsed": 23,
     "status": "ok",
     "timestamp": 1642508463136,
     "user": {
      "displayName": "StructMech Lab",
      "photoUrl": "https://lh3.googleusercontent.com/a/default-user=s64",
      "userId": "09364305318944848418"
     },
     "user_tz": -180
    },
    "id": "9PUyxqxeRrT0",
    "outputId": "c54bac33-d63f-4f63-9f1f-483b826c35f4"
   },
   "outputs": [],
   "source": [
    "x = np.linalg.solve(A,f)\n",
    "print(x) # The solution to the system of equations"
   ]
  },
  {
   "cell_type": "markdown",
   "metadata": {
    "id": "b8No9wi9RrT0"
   },
   "source": [
    "Let's check this solution is correct:"
   ]
  },
  {
   "cell_type": "code",
   "execution_count": null,
   "metadata": {
    "colab": {
     "base_uri": "https://localhost:8080/"
    },
    "executionInfo": {
     "elapsed": 21,
     "status": "ok",
     "timestamp": 1642508463136,
     "user": {
      "displayName": "StructMech Lab",
      "photoUrl": "https://lh3.googleusercontent.com/a/default-user=s64",
      "userId": "09364305318944848418"
     },
     "user_tz": -180
    },
    "id": "P4zmpvPVRrT0",
    "outputId": "23111d5f-c3ab-4cd8-9d47-7198fc00c057"
   },
   "outputs": [],
   "source": [
    "print(A * x - f)"
   ]
  },
  {
   "cell_type": "markdown",
   "metadata": {
    "id": "Rotgh06vRrT0"
   },
   "source": [
    "### Exercise 2.4 Solving a simple beam problem"
   ]
  },
  {
   "cell_type": "markdown",
   "metadata": {
    "id": "1OoRY4bjRrT0"
   },
   "source": [
    "We are going to implement the system of equations shown in notes for [Example 1](https://moodle.gla.ac.uk/pluginfile.php/5997984/mod_resource/content/1/example1.pdf) in the section [Displacement method for 2D frames - Semester 1 (Peter Grassl)](https://moodle.gla.ac.uk/course/view.php?id=26920#section-7). \n",
    "\n",
    "Create a 4x4 matrix corresponding to the matrix $\\mathbf{K_g}$. Also create a 3x1 vector corresponding to the vector $-\\mathbf{F}_{ex}$. I have reproduced the matrix and vector below for convenience:"
   ]
  },
  {
   "cell_type": "markdown",
   "metadata": {
    "id": "p7BqQIydRrT1"
   },
   "source": [
    "\n",
    "$\\mathbf{K_g} = \\begin{bmatrix}\n",
    "       400 & -400 & 0 & 0\\\\\n",
    "       -400& 800& -400& 0\\\\\n",
    "       0& -400& 600& -200\\\\\n",
    "       0& 0& -200& 200\\\\\n",
    "\\end{bmatrix}$\n",
    "     \n",
    "$-\\mathbf{F}_{ex} =\n",
    "\\begin{Bmatrix}\n",
    "       10     \\\\\n",
    "       -12    \\\\\n",
    "       20\n",
    "\\end{Bmatrix}$"
   ]
  },
  {
   "cell_type": "code",
   "execution_count": null,
   "metadata": {},
   "outputs": [],
   "source": [
    "# Complete your solution here\n",
    "\n"
   ]
  },
  {
   "cell_type": "markdown",
   "metadata": {
    "id": "58Wd_lpiRrT1"
   },
   "source": [
    "Fix the displacement at node 0 by deleting the first row and column of the matrix $\\mathbf{K_g}$. Now solve for the unknown displacements and check against the values in your notes."
   ]
  },
  {
   "cell_type": "code",
   "execution_count": null,
   "metadata": {
    "executionInfo": {
     "elapsed": 20,
     "status": "ok",
     "timestamp": 1642508463137,
     "user": {
      "displayName": "StructMech Lab",
      "photoUrl": "https://lh3.googleusercontent.com/a/default-user=s64",
      "userId": "09364305318944848418"
     },
     "user_tz": -180
    },
    "id": "aVnn43ehRrT1"
   },
   "outputs": [],
   "source": [
    "# Complete your solution here\n",
    "\n"
   ]
  }
 ],
 "metadata": {
  "anaconda-cloud": {},
  "colab": {
   "collapsed_sections": [],
   "name": "Lab1-exercises-2022.ipynb",
   "provenance": []
  },
  "kernelspec": {
   "display_name": "Python 3 (ipykernel)",
   "language": "python",
   "name": "python3"
  },
  "language_info": {
   "codemirror_mode": {
    "name": "ipython",
    "version": 3
   },
   "file_extension": ".py",
   "mimetype": "text/x-python",
   "name": "python",
   "nbconvert_exporter": "python",
   "pygments_lexer": "ipython3",
   "version": "3.8.10"
  }
 },
 "nbformat": 4,
 "nbformat_minor": 1
}
